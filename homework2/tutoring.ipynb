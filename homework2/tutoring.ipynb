{
 "cells": [
  {
   "cell_type": "code",
   "execution_count": null,
   "id": "74f1d853-fe91-4dc4-bcbd-19ca4736873b",
   "metadata": {},
   "outputs": [],
   "source": [
    "# list , dict, tuple #python data structures\n",
    "# list, string slicing\n",
    "# for loops, while loops\n",
    "# conditionals (logic) boolean logic\n",
    "# read csv"
   ]
  },
  {
   "cell_type": "code",
   "execution_count": 1,
   "id": "195e45a3-e46c-45bc-834e-1c55c1819c04",
   "metadata": {},
   "outputs": [
    {
     "data": {
      "text/plain": [
       "854401500717188962157084926692"
      ]
     },
     "execution_count": 1,
     "metadata": {},
     "output_type": "execute_result"
    }
   ],
   "source": [
    "5165151516 * 165416541619451877887"
   ]
  },
  {
   "cell_type": "code",
   "execution_count": 2,
   "id": "e57944b8-54af-47ab-8cf7-3170d827ee12",
   "metadata": {},
   "outputs": [
    {
     "data": {
      "text/plain": [
       "61237.807843137256"
      ]
     },
     "execution_count": 2,
     "metadata": {},
     "output_type": "execute_result"
    }
   ],
   "source": [
    "15615641 /255"
   ]
  },
  {
   "cell_type": "code",
   "execution_count": 4,
   "id": "32137670-2e29-4d2c-af49-4ec3b0a6d00d",
   "metadata": {},
   "outputs": [
    {
     "data": {
      "text/plain": [
       "10"
      ]
     },
     "execution_count": 4,
     "metadata": {},
     "output_type": "execute_result"
    }
   ],
   "source": [
    "# var\n",
    "# =, assignment operator\n",
    "# VALUE, 10, ASSIGNS IT to a variable num1\n",
    "num1 = 10\n",
    "bobthebuilder = 10\n",
    "bobthebuilder"
   ]
  },
  {
   "cell_type": "code",
   "execution_count": 10,
   "id": "ec647dd4-b01e-49b8-9fa7-e4d31e09c576",
   "metadata": {},
   "outputs": [],
   "source": [
    "# strings\n",
    "# \"hello\", 'hello'\n",
    "# \"hello\"\n",
    "# 'HEEEEEello'\n",
    "# \"Hello'"
   ]
  },
  {
   "cell_type": "code",
   "execution_count": 17,
   "id": "88f532a6-d38a-4cf7-b57c-a8cbae777ef0",
   "metadata": {},
   "outputs": [
    {
     "data": {
      "text/plain": [
       "[10, 20, 40, 50, 60, 70]"
      ]
     },
     "execution_count": 17,
     "metadata": {},
     "output_type": "execute_result"
    }
   ],
   "source": [
    "# list, container grouping of elements, num, words (strings)\n",
    "# list have an orde, the index\n",
    "# lists are created with []\n",
    "# we start counting 0\n",
    "# , separate the elements in the list\n",
    "list1 = [10,20,40,50,60]\n",
    "# how do i sleect froma list?\n",
    "# list1[idx]\n",
    "list1[0] #first element\n",
    "\n",
    "# how to add?\n",
    "list1.append(70) # always add at the end of list inplace\n",
    "list1"
   ]
  },
  {
   "cell_type": "code",
   "execution_count": 20,
   "id": "e1ab132f-1d7a-4bfe-852f-d43ff7ff1e08",
   "metadata": {},
   "outputs": [
    {
     "data": {
      "text/plain": [
       "'charles'"
      ]
     },
     "execution_count": 20,
     "metadata": {},
     "output_type": "execute_result"
    }
   ],
   "source": [
    "# dict, dict aren't ordered, they dont hagve index\n",
    "# what do dict store? key value pairs?\n",
    "# pairs of information\n",
    "# dict are created with {}\n",
    "# : links a key and value together\n",
    "# , comma sepates key value pairs\n",
    "#format: dict1 = {key1:value1, key2:value2}\n",
    "dict1 = {\"tutor\":\"charles\", \"student\":\"dylan\"}\n",
    "# how do i select from dict?\n",
    "# you have to select by KEY\n",
    "# format: dict1[key]\n",
    "dict1[\"tutor\"] #returns \"charles\"\n",
    "# when i select the key, it RETURNS the value\n",
    "dict1[\"student\"] #returns \"dylan\""
   ]
  },
  {
   "cell_type": "code",
   "execution_count": 22,
   "id": "35ccb413-56b6-483a-bca3-10aa451892d0",
   "metadata": {},
   "outputs": [
    {
     "ename": "KeyError",
     "evalue": "'charles'",
     "output_type": "error",
     "traceback": [
      "\u001b[1;31m---------------------------------------------------------------------------\u001b[0m",
      "\u001b[1;31mKeyError\u001b[0m                                  Traceback (most recent call last)",
      "Cell \u001b[1;32mIn[22], line 1\u001b[0m\n\u001b[1;32m----> 1\u001b[0m \u001b[43mdict1\u001b[49m\u001b[43m[\u001b[49m\u001b[38;5;124;43m\"\u001b[39;49m\u001b[38;5;124;43mcharles\u001b[39;49m\u001b[38;5;124;43m\"\u001b[39;49m\u001b[43m]\u001b[49m\n",
      "\u001b[1;31mKeyError\u001b[0m: 'charles'"
     ]
    }
   ],
   "source": [
    "dict1[\"charles\"]# KeyError, this key does not exist in the dict"
   ]
  },
  {
   "cell_type": "code",
   "execution_count": 24,
   "id": "e23fad64-e6e9-4dd9-92ac-3370dacb5afc",
   "metadata": {},
   "outputs": [
    {
     "data": {
      "text/plain": [
       "{'tutor': 'charles', 'student': 'dylan', 'student2': 'bob'}"
      ]
     },
     "execution_count": 24,
     "metadata": {},
     "output_type": "execute_result"
    }
   ],
   "source": [
    "# how do add to existing dict?\n",
    "dict1[\"student2\"] = \"bob\"\n",
    "dict1"
   ]
  },
  {
   "cell_type": "code",
   "execution_count": 29,
   "id": "e616f8d2-b088-4629-a734-2c6fc585b0d6",
   "metadata": {},
   "outputs": [
    {
     "data": {
      "text/plain": [
       "100"
      ]
     },
     "execution_count": 29,
     "metadata": {},
     "output_type": "execute_result"
    }
   ],
   "source": [
    "# comments, ignores the line\n",
    "# tuple, kinda lists,\n",
    "# tuples are created with ()\n",
    "# they also have index?\n",
    "# tuples are immutable? can't change when its created?\n",
    "tup1 = (100,200,300) # testing some fixed list of stuff 0-10\n",
    "tup1[0]\n",
    "# tup1.append(10) #modifies an existing structure"
   ]
  },
  {
   "cell_type": "code",
   "execution_count": 30,
   "id": "6064a9e9-7825-40d2-a51d-ebae235d8292",
   "metadata": {},
   "outputs": [
    {
     "data": {
      "text/plain": [
       "[10, 20, 40, 50, 60, 70]"
      ]
     },
     "execution_count": 30,
     "metadata": {},
     "output_type": "execute_result"
    }
   ],
   "source": [
    "list1"
   ]
  },
  {
   "cell_type": "code",
   "execution_count": 35,
   "id": "9fa95e7a-1b1d-440c-9cad-1ab18ade80c7",
   "metadata": {},
   "outputs": [
    {
     "data": {
      "text/plain": [
       "[10, 20, 40]"
      ]
     },
     "execution_count": 35,
     "metadata": {},
     "output_type": "execute_result"
    }
   ],
   "source": [
    "# list slicing\n",
    "# : activates slicing\n",
    "# format: list1[start:stop:step]\n",
    "# IT NEVER INCLUDES THE STOP NUMBER\n",
    "list1[0] #<- pick and element\n",
    "# format: list1[start:stop]\n",
    "# default\n",
    "# start = 0\n",
    "# stop = -1 (END)\n",
    "# step = 1\n",
    "# how many are you skipping?\n",
    "list1[:3]"
   ]
  },
  {
   "cell_type": "code",
   "execution_count": 41,
   "id": "4cca20a1-0189-4ba4-a48d-3fae7707ac68",
   "metadata": {},
   "outputs": [
    {
     "data": {
      "text/plain": [
       "70"
      ]
     },
     "execution_count": 41,
     "metadata": {},
     "output_type": "execute_result"
    }
   ],
   "source": [
    "list1[-1] # last element"
   ]
  },
  {
   "cell_type": "code",
   "execution_count": 36,
   "id": "40591374-b1d6-4fb6-ae75-21912004c188",
   "metadata": {},
   "outputs": [
    {
     "data": {
      "text/plain": [
       "[10, 20, 40, 50, 60, 70]"
      ]
     },
     "execution_count": 36,
     "metadata": {},
     "output_type": "execute_result"
    }
   ],
   "source": [
    "list1[:] # default start, default stop"
   ]
  },
  {
   "cell_type": "code",
   "execution_count": 37,
   "id": "2ed18623-10d0-4fb4-b696-b69deedc77c9",
   "metadata": {},
   "outputs": [
    {
     "data": {
      "text/plain": [
       "[10, 40, 60]"
      ]
     },
     "execution_count": 37,
     "metadata": {},
     "output_type": "execute_result"
    }
   ],
   "source": [
    "list1[::2] # skip every other one"
   ]
  },
  {
   "cell_type": "code",
   "execution_count": 38,
   "id": "fae1cde6-ce53-42d5-b64b-796199759fe2",
   "metadata": {},
   "outputs": [
    {
     "data": {
      "text/plain": [
       "[10, 50]"
      ]
     },
     "execution_count": 38,
     "metadata": {},
     "output_type": "execute_result"
    }
   ],
   "source": [
    "list1[::3]"
   ]
  },
  {
   "cell_type": "code",
   "execution_count": 42,
   "id": "2ab38d52-2b51-417b-91ca-cc044e0c2b55",
   "metadata": {},
   "outputs": [
    {
     "data": {
      "text/plain": [
       "[40, 50, 60]"
      ]
     },
     "execution_count": 42,
     "metadata": {},
     "output_type": "execute_result"
    }
   ],
   "source": [
    "list1[2:-1]"
   ]
  },
  {
   "cell_type": "code",
   "execution_count": 43,
   "id": "ba1b5bfa-9a74-4698-94d4-2ab3f7f4666f",
   "metadata": {},
   "outputs": [
    {
     "data": {
      "text/plain": [
       "[70, 60, 50, 40, 20, 10]"
      ]
     },
     "execution_count": 43,
     "metadata": {},
     "output_type": "execute_result"
    }
   ],
   "source": [
    "list1[::-1] #reverse the list"
   ]
  },
  {
   "cell_type": "code",
   "execution_count": 46,
   "id": "b276a2bb-eaf8-4a57-b8eb-2ddae26c03dc",
   "metadata": {},
   "outputs": [
    {
     "data": {
      "text/plain": [
       "'i am'"
      ]
     },
     "execution_count": 46,
     "metadata": {},
     "output_type": "execute_result"
    }
   ],
   "source": [
    "string1 = \"i am a tutor\"\n",
    "string1[0:4]"
   ]
  },
  {
   "cell_type": "code",
   "execution_count": 22,
   "id": "165ac8a6-151b-4383-9346-095a1d2df6fc",
   "metadata": {},
   "outputs": [
    {
     "data": {
      "text/plain": [
       "10"
      ]
     },
     "execution_count": 22,
     "metadata": {},
     "output_type": "execute_result"
    }
   ],
   "source": [
    "list2 =[100, [10,20,30,40], 200, 300]\n",
    "# 10? in nested list\n",
    "new_list = list2[1]\n",
    "new_list[0]\n",
    "\n",
    "list2[1][0] # one go"
   ]
  },
  {
   "cell_type": "code",
   "execution_count": 23,
   "id": "62166d93-382d-4e0b-b208-ec691ca98700",
   "metadata": {},
   "outputs": [
    {
     "name": "stdout",
     "output_type": "stream",
     "text": [
      "100\n",
      "[10, 20, 30, 40]\n",
      "200\n",
      "300\n"
     ]
    }
   ],
   "source": [
    "for row in list2:# row = [10,20,30,40]\n",
    "    print(row)"
   ]
  },
  {
   "cell_type": "code",
   "execution_count": 59,
   "id": "e73aa4b3-0324-45b6-8f8f-c99db34f7b72",
   "metadata": {},
   "outputs": [
    {
     "name": "stdout",
     "output_type": "stream",
     "text": [
      "stateemenmt1\n",
      "10\n",
      "statement2\n",
      "last\n",
      "stateemenmt1\n",
      "20\n",
      "statement2\n",
      "last\n",
      "stateemenmt1\n",
      "40\n",
      "statement2\n",
      "last\n",
      "stateemenmt1\n",
      "50\n",
      "statement2\n",
      "last\n",
      "i found 50\n",
      "stateemenmt1\n",
      "60\n",
      "statement2\n",
      "last\n",
      "stateemenmt1\n",
      "70\n",
      "statement2\n",
      "last\n"
     ]
    }
   ],
   "source": [
    "# basics of for loop\n",
    "# repeats a set of statements for a set of elements?\n",
    "# iterable -> list or dict\n",
    "# 10\n",
    "# var <- variable represents the element at the time of execution\n",
    "# format: \n",
    "# for var in iterable:\n",
    "#    statements1\n",
    "#    statements2\n",
    "# For every element in the list, run the set of statements inside the for loop\n",
    "# list1  [10, 20, 40, 50, 60, 70]\n",
    "# when all statements are finished it goes to the enxt elemtn\n",
    "# it stops when ALL elements in the list are finished with ALL the staements\n",
    "for num in list1: # num = 40\n",
    "    print(\"stateemenmt1\")\n",
    "    print(num)\n",
    "    print(\"statement2\")\n",
    "    print(\"last\")\n",
    "    if num == 50:\n",
    "        print(\"i found\", num)"
   ]
  },
  {
   "cell_type": "code",
   "execution_count": 54,
   "id": "df9a399e-a97c-4e5b-86a5-31f84c392fe7",
   "metadata": {},
   "outputs": [
    {
     "name": "stdout",
     "output_type": "stream",
     "text": [
      "[10, 20, 40, 50, 60, 70]\n"
     ]
    },
    {
     "data": {
      "text/plain": [
       "[50]"
      ]
     },
     "execution_count": 54,
     "metadata": {},
     "output_type": "execute_result"
    }
   ],
   "source": [
    "print(list1)\n",
    "list2 = [50]\n",
    "list2 #last element in the cell, just variable will print"
   ]
  },
  {
   "cell_type": "code",
   "execution_count": 66,
   "id": "85c78cab-bf62-4d07-96c7-32dd2c338252",
   "metadata": {},
   "outputs": [
    {
     "name": "stdout",
     "output_type": "stream",
     "text": [
      "hello else\n"
     ]
    }
   ],
   "source": [
    "# conditions if statements\n",
    "# if statement\n",
    "# if cond1: when is true? then run the statements underneath\n",
    "#     statements1\n",
    "#     statmetens2\n",
    "# elif cond2:\n",
    "#     statements1\n",
    "#     statmetens2\n",
    "# else: #else has no condition\n",
    "#    statemetn2\n",
    "#    statmeten45\n",
    "# in the same if block once it finds a condition tahts true it\n",
    "# exits out of the whole block\n",
    "# else only executes when ALL the other conditiosn above are false\n",
    "num2 = 1000\n",
    "if num2 < 50: #false\n",
    "    print('less then 50')\n",
    "elif num2 < 200: # true\n",
    "    print('elif statement')\n",
    "elif num2 < 500: # true\n",
    "    print(\"second elif\")\n",
    "else:\n",
    "    print(\"hello else\")\n",
    "# print('out of lbock')"
   ]
  },
  {
   "cell_type": "code",
   "execution_count": 67,
   "id": "f8a931e9-db83-425c-9aa1-3f597e3cb4c1",
   "metadata": {},
   "outputs": [
    {
     "name": "stdout",
     "output_type": "stream",
     "text": [
      "i made a lot of money\n"
     ]
    }
   ],
   "source": [
    "num3 = 1000\n",
    "if num3 >= 1000:\n",
    "    print('i made a lot of money')\n",
    "else:\n",
    "    print('i made no money')"
   ]
  },
  {
   "cell_type": "code",
   "execution_count": 70,
   "id": "06a67284-2a36-451a-9419-00dbe97e9aed",
   "metadata": {},
   "outputs": [
    {
     "name": "stdout",
     "output_type": "stream",
     "text": [
      "less then 50\n",
      "elif statement\n",
      "thirdif\n"
     ]
    }
   ],
   "source": [
    "num2 = 10\n",
    "\n",
    "if num2 < 50:\n",
    "    print('less then 50')\n",
    "if num2 < 200:\n",
    "    print('elif statement')\n",
    "elif num2 < 1000:\n",
    "    print('elif 2 ')\n",
    "if num2 < 2000:\n",
    "    print(\"thirdif\")"
   ]
  },
  {
   "cell_type": "code",
   "execution_count": null,
   "id": "ed8bb58b-a43a-4862-864d-3d52186a7c12",
   "metadata": {},
   "outputs": [],
   "source": [
    "# how to read a csv file\n",
    "# where the file? HOw?\n",
    "# \"r\", \"w\"\n",
    "# 2 main ways to specify a file path\n",
    "# asbolute path\n",
    "# \"C:/Users/brown/OneDrive/Desktop/Homework/homework2/budget_data.csv\"\n",
    "# relative path\n",
    "# . <- thid folder\n",
    "# .. <- parent folder\n",
    "# ? jupyter lab, determines path from THIS NOTEBOOK\n",
    "# import pandas as pd\n",
    "# pd.read_csv(\"../budget_data3.csv\")"
   ]
  },
  {
   "cell_type": "code",
   "execution_count": null,
   "id": "b1bb89de-eeeb-420a-8bf1-84df5a8b4525",
   "metadata": {},
   "outputs": [],
   "source": [
    "# python open() <- opens a file\n",
    "# open(file_path , how r or w)\n",
    "import csv # csv file reader turns files into lists\n",
    "# csv.reader(file)\n",
    "# csv.writer(file)\n",
    "with open(\"./budget_data.csv\", \"r\") as file: # alias as file <- var\n",
    "    # print(file.read()[:58]) # bad because this is a big str\n",
    "    # (csv.reader(file) # this creats an object that is a giant list\n",
    "    for row in csv.reader(file): #csv.reader(file) []\n",
    "        print(row) # row #first element are months\n",
    "        # second elements are profit and losses\n",
    "    #doing stuff in here the file with stay open\n",
    "# out here it auto closes the file"
   ]
  },
  {
   "cell_type": "code",
   "execution_count": 33,
   "id": "02a040e5-7af8-4eed-9aa7-03be86c07e45",
   "metadata": {},
   "outputs": [
    {
     "name": "stdout",
     "output_type": "stream",
     "text": [
      "25\n",
      "100000\n"
     ]
    }
   ],
   "source": [
    "# overwriting variables\n",
    "num10 = 25\n",
    "print(num10)\n",
    "num10 = 100000\n",
    "print(num10)"
   ]
  },
  {
   "cell_type": "code",
   "execution_count": 34,
   "id": "6f32db55-0c94-42ff-89cf-3b478ca14218",
   "metadata": {},
   "outputs": [
    {
     "name": "stdout",
     "output_type": "stream",
     "text": [
      "100000\n"
     ]
    }
   ],
   "source": [
    "print(num10)"
   ]
  },
  {
   "cell_type": "code",
   "execution_count": null,
   "id": "631ebbce-ee38-4873-bb6a-e6566a8b99c9",
   "metadata": {},
   "outputs": [],
   "source": [
    "# assignment of variables goes from right to left\n",
    "# var = VLAUE\n",
    "# looks at the value first, and the assigns it to the var"
   ]
  },
  {
   "cell_type": "code",
   "execution_count": 35,
   "id": "4b66ee99-eb67-4331-a692-af065da334d5",
   "metadata": {},
   "outputs": [
    {
     "name": "stdout",
     "output_type": "stream",
     "text": [
      "8\n"
     ]
    }
   ],
   "source": [
    "# basic algorithms\n",
    "# algo, when you have a problem\n",
    "# and you write a solution to that problem\n",
    "# that is an algorithm\n",
    "# count/len\n",
    "# sum\n",
    "# min\n",
    "# max\n",
    "list3 = [10,20,30,40,50,60,70, 100]\n",
    "# how do i determine the len\n",
    "# len(list3)\n",
    "# implement the algoirthm of len\n",
    "# most of the time you will need a for loop\n",
    "# nature of the for loop, automatically it looks at every eleemnt\n",
    "# what variables do you have?\n",
    "# toolbox: list, dict, var, for loops\n",
    "count = 0\n",
    "for num in list3: #num 30\n",
    "    # print(count + 1) 0+ 1\n",
    "    # this part does not change the value of count\n",
    "    # take adavntage of the reptitive behavior in the for loop\n",
    "    # we dont need num ffor count\n",
    "    # count = 3\n",
    "    count = count + 1 #  0 + 1 assigns to count\n",
    "    \n",
    "print(count)"
   ]
  },
  {
   "cell_type": "code",
   "execution_count": 36,
   "id": "26cfe220-e0a5-47c2-af36-751bf5b31241",
   "metadata": {},
   "outputs": [
    {
     "data": {
      "text/plain": [
       "8"
      ]
     },
     "execution_count": 36,
     "metadata": {},
     "output_type": "execute_result"
    }
   ],
   "source": [
    "len(list3)"
   ]
  },
  {
   "cell_type": "code",
   "execution_count": 40,
   "id": "8c5e4e12-4d18-473f-a17f-6bc971b2047b",
   "metadata": {},
   "outputs": [
    {
     "name": "stdout",
     "output_type": "stream",
     "text": [
      "10\n",
      "30\n",
      "60\n",
      "100\n",
      "150\n",
      "210\n",
      "280\n",
      "380\n",
      "380\n"
     ]
    }
   ],
   "source": [
    "total = 0\n",
    "for num in list3: #num 40\n",
    "    # print(count + 1) 0+ 1\n",
    "    # this part does not change the value of count\n",
    "    # take adavntage of the reptitive behavior in the for loop\n",
    "    # we dont need num ffor count\n",
    "    # total = 100\n",
    "    total = total + num #  60 + 40 \n",
    "    print(total)\n",
    "print(total)"
   ]
  },
  {
   "cell_type": "code",
   "execution_count": 39,
   "id": "0b49b762-5849-45b4-ae1b-4c109018deba",
   "metadata": {},
   "outputs": [
    {
     "data": {
      "text/plain": [
       "380"
      ]
     },
     "execution_count": 39,
     "metadata": {},
     "output_type": "execute_result"
    }
   ],
   "source": [
    "sum(list3)"
   ]
  },
  {
   "cell_type": "code",
   "execution_count": 44,
   "id": "ce1425d9-7806-4a8a-99e4-dc12ab3296b9",
   "metadata": {},
   "outputs": [
    {
     "data": {
      "text/plain": [
       "[10, 20, 30, 40, 50, 60, 70, 100]"
      ]
     },
     "execution_count": 44,
     "metadata": {},
     "output_type": "execute_result"
    }
   ],
   "source": [
    "list3"
   ]
  },
  {
   "cell_type": "code",
   "execution_count": 47,
   "id": "cac4fe09-9d91-4d70-8489-84bb08e3a9a0",
   "metadata": {},
   "outputs": [
    {
     "name": "stdout",
     "output_type": "stream",
     "text": [
      "50\n",
      "25\n",
      "-1\n",
      "-1\n"
     ]
    }
   ],
   "source": [
    "list4 = [100,50, 25, 25000, -1, 99]\n",
    "min_num = list4[0]\n",
    "# min_num  = 100\n",
    "for num in list4: #num 99\n",
    "    if num < min_num: # 99 < -1\n",
    "        min_num = num # min_num = -1\n",
    "        print(min_num)\n",
    "print(min_num)"
   ]
  },
  {
   "cell_type": "code",
   "execution_count": null,
   "id": "c12799d8-8bb2-4532-87ef-71d842489ebe",
   "metadata": {},
   "outputs": [],
   "source": []
  }
 ],
 "metadata": {
  "kernelspec": {
   "display_name": "Python 3 (ipykernel)",
   "language": "python",
   "name": "python3"
  },
  "language_info": {
   "codemirror_mode": {
    "name": "ipython",
    "version": 3
   },
   "file_extension": ".py",
   "mimetype": "text/x-python",
   "name": "python",
   "nbconvert_exporter": "python",
   "pygments_lexer": "ipython3",
   "version": "3.9.16"
  }
 },
 "nbformat": 4,
 "nbformat_minor": 5
}
