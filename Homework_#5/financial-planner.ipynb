{
 "cells": [
  {
   "cell_type": "markdown",
   "metadata": {
    "tags": []
   },
   "source": [
    "# Unit 5 - Financial Planning"
   ]
  },
  {
   "cell_type": "code",
   "execution_count": 1,
   "metadata": {},
   "outputs": [],
   "source": [
    "# Initial imports\n",
    "import os\n",
    "import requests\n",
    "import pandas as pd\n",
    "from dotenv import load_dotenv\n",
    "import alpaca_trade_api as tradeapi\n",
    "from MCForecastTools import MCSimulation\n",
    "\n",
    "%matplotlib inline"
   ]
  },
  {
   "cell_type": "code",
   "execution_count": 2,
   "metadata": {},
   "outputs": [
    {
     "data": {
      "text/plain": [
       "True"
      ]
     },
     "execution_count": 2,
     "metadata": {},
     "output_type": "execute_result"
    }
   ],
   "source": [
    "# Load .env enviroment variables\n",
    "load_dotenv()\n",
    " "
   ]
  },
  {
   "cell_type": "markdown",
   "metadata": {},
   "source": [
    "## Part 1 - Personal Finance Planner"
   ]
  },
  {
   "cell_type": "markdown",
   "metadata": {},
   "source": [
    "### Collect Crypto Prices Using the `requests` Library"
   ]
  },
  {
   "cell_type": "code",
   "execution_count": 3,
   "metadata": {},
   "outputs": [],
   "source": [
    "# Set current amount of crypto assets\n",
    "# YOUR CODE HERE!\n",
    "\n",
    "my_btc = 1.2\n",
    "my_eth = 5.3"
   ]
  },
  {
   "cell_type": "code",
   "execution_count": 4,
   "metadata": {},
   "outputs": [],
   "source": [
    "# Crypto API URLs\n",
    "btc_url = \"https://api.alternative.me/v2/ticker/Bitcoin/?convert=USD\"\n",
    "eth_url = \"https://api.alternative.me/v2/ticker/Ethereum/?convert=USD\""
   ]
  },
  {
   "cell_type": "code",
   "execution_count": 5,
   "metadata": {},
   "outputs": [
    {
     "name": "stdout",
     "output_type": "stream",
     "text": [
      "The current value of your 1.2 BTC is $33945.60\n",
      "The current value of your 5.3 ETH is $10300.66\n"
     ]
    }
   ],
   "source": [
    "# Fetch current BTC price\n",
    "# YOUR CODE HERE!\n",
    "\n",
    "btc_response_data = requests.get(btc_url)\n",
    "\n",
    "# Fetch current ETH price\n",
    "# YOUR CODE HERE!\n",
    "\n",
    "eth_response_data = requests.get(eth_url)\n",
    "\n",
    "# Compute current value of my crpto\n",
    "# YOUR CODE HERE!\n",
    "\n",
    "\n",
    "my_btc_value = btc_response_data.json()['data']['1']['quotes']['USD']['price'] * my_btc\n",
    "my_eth_value = eth_response_data.json()['data']['1027']['quotes']['USD']['price'] * my_eth\n",
    "\n",
    "# Print current crypto wallet balance\n",
    "print(f\"The current value of your {my_btc} BTC is ${my_btc_value:0.2f}\")\n",
    "print(f\"The current value of your {my_eth} ETH is ${my_eth_value:0.2f}\")"
   ]
  },
  {
   "cell_type": "markdown",
   "metadata": {},
   "source": [
    "### Collect Investments Data Using Alpaca: `SPY` (stocks) and `AGG` (bonds)"
   ]
  },
  {
   "cell_type": "code",
   "execution_count": 6,
   "metadata": {},
   "outputs": [],
   "source": [
    "# Set current amount of shares\n",
    "my_agg = 200\n",
    "my_spy = 50"
   ]
  },
  {
   "cell_type": "code",
   "execution_count": 12,
   "metadata": {},
   "outputs": [
    {
     "ename": "ValueError",
     "evalue": "('Key ID must be given to access Alpaca trade API', ' (env: APCA_API_KEY_ID)')",
     "output_type": "error",
     "traceback": [
      "\u001b[1;31m---------------------------------------------------------------------------\u001b[0m",
      "\u001b[1;31mValueError\u001b[0m                                Traceback (most recent call last)",
      "Cell \u001b[1;32mIn[12], line 8\u001b[0m\n\u001b[0;32m      5\u001b[0m base_url \u001b[38;5;241m=\u001b[39m \u001b[38;5;124m'\u001b[39m\u001b[38;5;124mhttps://paper-api.alpaca.markets\u001b[39m\u001b[38;5;124m'\u001b[39m\n\u001b[0;32m      6\u001b[0m \u001b[38;5;66;03m# Create the Alpaca API object\u001b[39;00m\n\u001b[0;32m      7\u001b[0m \u001b[38;5;66;03m# instantiate REST API\u001b[39;00m\n\u001b[1;32m----> 8\u001b[0m alpaca_api_key \u001b[38;5;241m=\u001b[39m \u001b[43mtradeapi\u001b[49m\u001b[38;5;241;43m.\u001b[39;49m\u001b[43mREST\u001b[49m\u001b[43m(\u001b[49m\u001b[43malpaca_api_key\u001b[49m\u001b[43m,\u001b[49m\u001b[43m \u001b[49m\u001b[43malpaca_secret_key\u001b[49m\u001b[43m,\u001b[49m\u001b[43m \u001b[49m\u001b[43mbase_url\u001b[49m\u001b[43m,\u001b[49m\u001b[43m \u001b[49m\u001b[43mapi_version\u001b[49m\u001b[38;5;241;43m=\u001b[39;49m\u001b[38;5;124;43m'\u001b[39;49m\u001b[38;5;124;43mv2\u001b[39;49m\u001b[38;5;124;43m'\u001b[39;49m\u001b[43m)\u001b[49m\n\u001b[0;32m     10\u001b[0m \u001b[38;5;66;03m# obtain account information\u001b[39;00m\n\u001b[0;32m     11\u001b[0m account \u001b[38;5;241m=\u001b[39m api\u001b[38;5;241m.\u001b[39mget_account()\n",
      "File \u001b[1;32m~\\anaconda3\\envs\\alpacaenv\\lib\\site-packages\\alpaca_trade_api\\rest.py:168\u001b[0m, in \u001b[0;36mREST.__init__\u001b[1;34m(self, key_id, secret_key, base_url, api_version, oauth, raw_data)\u001b[0m\n\u001b[0;32m    156\u001b[0m \u001b[38;5;28;01mdef\u001b[39;00m \u001b[38;5;21m__init__\u001b[39m(\u001b[38;5;28mself\u001b[39m,\n\u001b[0;32m    157\u001b[0m              key_id: \u001b[38;5;28mstr\u001b[39m \u001b[38;5;241m=\u001b[39m \u001b[38;5;28;01mNone\u001b[39;00m,\n\u001b[0;32m    158\u001b[0m              secret_key: \u001b[38;5;28mstr\u001b[39m \u001b[38;5;241m=\u001b[39m \u001b[38;5;28;01mNone\u001b[39;00m,\n\u001b[1;32m   (...)\u001b[0m\n\u001b[0;32m    162\u001b[0m              raw_data: \u001b[38;5;28mbool\u001b[39m \u001b[38;5;241m=\u001b[39m \u001b[38;5;28;01mFalse\u001b[39;00m\n\u001b[0;32m    163\u001b[0m              ):\n\u001b[0;32m    164\u001b[0m \u001b[38;5;250m    \u001b[39m\u001b[38;5;124;03m\"\"\"\u001b[39;00m\n\u001b[0;32m    165\u001b[0m \u001b[38;5;124;03m    :param raw_data: should we return api response raw or wrap it with\u001b[39;00m\n\u001b[0;32m    166\u001b[0m \u001b[38;5;124;03m                     Entity objects.\u001b[39;00m\n\u001b[0;32m    167\u001b[0m \u001b[38;5;124;03m    \"\"\"\u001b[39;00m\n\u001b[1;32m--> 168\u001b[0m     \u001b[38;5;28mself\u001b[39m\u001b[38;5;241m.\u001b[39m_key_id, \u001b[38;5;28mself\u001b[39m\u001b[38;5;241m.\u001b[39m_secret_key, \u001b[38;5;28mself\u001b[39m\u001b[38;5;241m.\u001b[39m_oauth \u001b[38;5;241m=\u001b[39m \u001b[43mget_credentials\u001b[49m\u001b[43m(\u001b[49m\n\u001b[0;32m    169\u001b[0m \u001b[43m        \u001b[49m\u001b[43mkey_id\u001b[49m\u001b[43m,\u001b[49m\u001b[43m \u001b[49m\u001b[43msecret_key\u001b[49m\u001b[43m,\u001b[49m\u001b[43m \u001b[49m\u001b[43moauth\u001b[49m\u001b[43m)\u001b[49m\n\u001b[0;32m    170\u001b[0m     \u001b[38;5;28mself\u001b[39m\u001b[38;5;241m.\u001b[39m_base_url: URL \u001b[38;5;241m=\u001b[39m URL(base_url \u001b[38;5;129;01mor\u001b[39;00m get_base_url())\n\u001b[0;32m    171\u001b[0m     \u001b[38;5;28mself\u001b[39m\u001b[38;5;241m.\u001b[39m_api_version \u001b[38;5;241m=\u001b[39m get_api_version(api_version)\n",
      "File \u001b[1;32m~\\anaconda3\\envs\\alpacaenv\\lib\\site-packages\\alpaca_trade_api\\common.py:84\u001b[0m, in \u001b[0;36mget_credentials\u001b[1;34m(key_id, secret_key, oauth)\u001b[0m\n\u001b[0;32m     82\u001b[0m key_id \u001b[38;5;241m=\u001b[39m key_id \u001b[38;5;129;01mor\u001b[39;00m os\u001b[38;5;241m.\u001b[39menviron\u001b[38;5;241m.\u001b[39mget(\u001b[38;5;124m'\u001b[39m\u001b[38;5;124mAPCA_API_KEY_ID\u001b[39m\u001b[38;5;124m'\u001b[39m)\n\u001b[0;32m     83\u001b[0m \u001b[38;5;28;01mif\u001b[39;00m key_id \u001b[38;5;129;01mis\u001b[39;00m \u001b[38;5;28;01mNone\u001b[39;00m \u001b[38;5;129;01mand\u001b[39;00m oauth \u001b[38;5;129;01mis\u001b[39;00m \u001b[38;5;28;01mNone\u001b[39;00m:\n\u001b[1;32m---> 84\u001b[0m     \u001b[38;5;28;01mraise\u001b[39;00m \u001b[38;5;167;01mValueError\u001b[39;00m(\u001b[38;5;124m'\u001b[39m\u001b[38;5;124mKey ID must be given to access Alpaca trade API\u001b[39m\u001b[38;5;124m'\u001b[39m,\n\u001b[0;32m     85\u001b[0m                      \u001b[38;5;124m'\u001b[39m\u001b[38;5;124m (env: APCA_API_KEY_ID)\u001b[39m\u001b[38;5;124m'\u001b[39m)\n\u001b[0;32m     87\u001b[0m secret_key \u001b[38;5;241m=\u001b[39m secret_key \u001b[38;5;129;01mor\u001b[39;00m os\u001b[38;5;241m.\u001b[39menviron\u001b[38;5;241m.\u001b[39mget(\u001b[38;5;124m'\u001b[39m\u001b[38;5;124mAPCA_API_SECRET_KEY\u001b[39m\u001b[38;5;124m'\u001b[39m)\n\u001b[0;32m     88\u001b[0m \u001b[38;5;28;01mif\u001b[39;00m secret_key \u001b[38;5;129;01mis\u001b[39;00m \u001b[38;5;28;01mNone\u001b[39;00m \u001b[38;5;129;01mand\u001b[39;00m oauth \u001b[38;5;129;01mis\u001b[39;00m \u001b[38;5;28;01mNone\u001b[39;00m:\n",
      "\u001b[1;31mValueError\u001b[0m: ('Key ID must be given to access Alpaca trade API', ' (env: APCA_API_KEY_ID)')"
     ]
    }
   ],
   "source": [
    "# Set Alpaca API key and secret\n",
    "# YOUR CODE HERE!\n",
    "alpaca_api_key = os.getenv(\"PKQNUNDV8Q62UM0KGL9E\")\n",
    "alpaca_secret_key = os.getenv(\"4B5xqfKWOCCdbaoPS4hXkhpcdZOmxiPcYvTBXxcx\")\n",
    "base_url = 'https://paper-api.alpaca.markets'\n",
    "# Create the Alpaca API object\n",
    "# instantiate REST API\n",
    "alpaca_api_key = tradeapi.REST(alpaca_api_key, alpaca_secret_key, base_url, api_version='v2')\n",
    "\n",
    "# obtain account information\n",
    "account = api.get_account()\n",
    "print(account)\n"
   ]
  },
  {
   "cell_type": "code",
   "execution_count": null,
   "metadata": {},
   "outputs": [],
   "source": [
    "# Format current date as ISO format\n",
    "start_date = pd.Timestamp(\"2023-04-21\", tz=\"America/New_York\").isoformat()\n",
    "end_date = pd.Timestamp(\"2023-04-21\", tz=\"America/New_York\").isoformat()\n",
    "\n",
    "# Set the tickers\n",
    "tickers = [\"AGG\", \"SPY\"]\n",
    "\n",
    "# Set timeframe to \"1Day\" for Alpaca API\n",
    "timeframe = \"1Day\"\n",
    "\n",
    "# Get current closing prices for SPY and AGG\n",
    "# YOUR CODE HERE!\n",
    "\n",
    "df_ticker = api.get_bars(\n",
    "    tickers,\n",
    "    timeframe,\n",
    "    start=start_date,\n",
    "    end=end_date\n",
    ").df\n",
    "\n",
    "# Reorganize the DataFrame\n",
    "# Separate ticker data\n",
    "# YOUR CODE HERE!\n",
    "AGG = df_ticker[df_ticker['symbol']=='AGG'].drop('symbol', axis=1).drop('trade_count', axis=1).drop('vwap', axis=1)\n",
    "AGG[\"close\"][0]\n",
    "\n",
    "\n",
    "SPY = df_ticker[df_ticker['symbol']=='SPY'].drop('symbol', axis=1).drop('trade_count', axis=1).drop('vwap', axis=1)\n",
    "SPY[\"close\"][0]\n",
    "# Concatenate the ticker DataFrames\n",
    "# YOUR CODE HERE!\n",
    "\n",
    "df_ticker_concat = pd.concat([AGG, SPY], axis=1, keys=[\"AGG\", \"SPY\"])\n",
    "\n",
    "\n",
    "# Preview DataFrame\n",
    "# YOUR CODE HERE!\n",
    "\n",
    "df_ticker_concat.head()"
   ]
  },
  {
   "cell_type": "code",
   "execution_count": null,
   "metadata": {},
   "outputs": [],
   "source": [
    "# Pick AGG and SPY close pricesagg_close_price = AGG[\"close\"][0]\n",
    "\n",
    "agg_close_price = AGG[\"close\"][0]\n",
    "spy_close_price = SPY[\"close\"][0]\n",
    "\n",
    "# Print AGG and SPY close prices\n",
    "\n",
    "print(f\"Current AGG closing price: ${agg_close_price}\")\n",
    "print(f\"Current SPY closing price: ${spy_close_price}\")"
   ]
  },
  {
   "cell_type": "code",
   "execution_count": null,
   "metadata": {},
   "outputs": [],
   "source": [
    "# Compute the current value of shares\n",
    "# YOUR CODE HERE!\n",
    "\n",
    "my_spy_value = my_spy * spy_close_price\n",
    "my_agg_value = my_agg * agg_close_price\n",
    "\n",
    "\n",
    "# Print current value of shares\n",
    "print(f\"The current value of your {my_spy} SPY shares is ${my_spy_value:0.2f}\")\n",
    "print(f\"The current value of your {my_agg} AGG shares is ${my_agg_value:0.2f}\")"
   ]
  },
  {
   "cell_type": "markdown",
   "metadata": {},
   "source": [
    "### Savings Health Analysis"
   ]
  },
  {
   "cell_type": "code",
   "execution_count": null,
   "metadata": {},
   "outputs": [],
   "source": [
    "# Set monthly household income\n",
    "\n",
    "monthly_household_income = 12000\n",
    "\n",
    "\n",
    "# Consolidate financial assets data\n",
    "\n",
    "crypto_value = my_btc_value + my_eth_value\n",
    "shares_value = my_agg_value + my_spy_value\n",
    "\n",
    "\n",
    "# Create savings DataFrame\n",
    "df_savings = pd.DataFrame([\n",
    "    {'asset': 'crypto', 'amount': crypto_value},\n",
    "    {'asset': 'shares', 'amount': shares_value}\n",
    "])\n",
    "df_savings = df_savings.set_index('asset')\n",
    "\n",
    "# Display savings DataFrame\n",
    "display(df_savings)"
   ]
  },
  {
   "cell_type": "code",
   "execution_count": null,
   "metadata": {},
   "outputs": [],
   "source": [
    "# Plot savings pie chart\n",
    "\n",
    "pie_chart = df_savings.plot.pie(y= 'amount', title=\"Savings Portfolio Composition\", figsize=(5,5))"
   ]
  },
  {
   "cell_type": "code",
   "execution_count": null,
   "metadata": {},
   "outputs": [],
   "source": [
    "# Set ideal emergency fund\n",
    "emergency_fund = monthly_household_income * 3\n",
    "\n",
    "# Calculate total amount of savings\n",
    "\n",
    "total_saving = crypto_value + shares_value\n",
    "\n",
    "# Validate saving health\n",
    "# YOUR CODE HERE!\n",
    "\n",
    "\n",
    "#If total savings are greater than the emergency fund, display a message congratulating the person for having enough money in this fund.\n",
    "if total_savings > emergency_fund:\n",
    "    print(f\"Congratulations! You have enough money in your emergency fund.\")\n",
    "\n",
    "#If total savings are equal to the emergency fund, display a message congratulating the person on reaching this financial goal.\n",
    "elif total_savings == emergency_fund:\n",
    "    print(f\"You have reached your financial goal!\")\n",
    "\n",
    "#If total savings are less than the emergency fund, display a message showing how many dollars away the person is from reaching the goal.\n",
    "else:\n",
    "  print(f\"You do not have enough money in your emergency fund.  You need ${emergency_fund - total_saving:.2f} more.\")   "
   ]
  },
  {
   "cell_type": "markdown",
   "metadata": {},
   "source": [
    "## Part 2 - Retirement Planning\n",
    "\n",
    "### Monte Carlo Simulation"
   ]
  },
  {
   "cell_type": "code",
   "execution_count": null,
   "metadata": {},
   "outputs": [],
   "source": [
    "# Set start and end dates of five years back from today.\n",
    "# Sample results may vary from the solution based on the time frame chosen\n",
    "\n",
    "start_date = pd.Timestamp('2018-04-21', tz='America/New_York').isoformat()\n",
    "end_date = pd.Timestamp('2018-04-21', tz='America/New_York').isoformat()\n",
    "\n"
   ]
  },
  {
   "cell_type": "code",
   "execution_count": null,
   "metadata": {},
   "outputs": [],
   "source": [
    "# Get 5 years' worth of historical data for SPY and AGG\n",
    "df_ticker_five = api.get_bars(\n",
    "    tickers,\n",
    "    timeframe,\n",
    "    start=start_date,\n",
    "    end=end_date\n",
    ").df\n",
    "\n",
    "\n",
    "# Reorganize the DataFrame\n",
    "# Separate ticker data\n",
    "AGG_five = df_ticker_five[df_ticker_five['symbol']=='AGG'].drop('symbol', axis=1).drop('trade_count', axis=1).drop('vwap', axis=1)\n",
    "SPY_five = df_ticker_five[df_ticker_five['symbol']=='SPY'].drop('symbol', axis=1).drop('trade_count', axis=1).drop('vwap', axis=1)\n",
    "\n",
    "\n",
    "# Concatenate the ticker DataFrames\n",
    "df_stock_data = pd.concat([AGG_five, SPY_five], axis=1, keys=[\"AGG\", \"SPY\"])\n",
    "\n",
    "# Display sample data\n",
    "df_stock_data.head()"
   ]
  },
  {
   "cell_type": "code",
   "execution_count": null,
   "metadata": {},
   "outputs": [],
   "source": [
    "# Configuring a Monte Carlo simulation to forecast 30 years cumulative returns\n",
    "years = 30\n",
    "MC_dist = MCSimulation(\n",
    "    portfolio_data = df_stock_data,\n",
    "    weights = [.4,.6],\n",
    "    num_simulation = 500,\n",
    "    num_trading_days = 252*years\n",
    "    \n",
    ")\n"
   ]
  },
  {
   "cell_type": "code",
   "execution_count": null,
   "metadata": {},
   "outputs": [],
   "source": [
    "# Printing the simulation input data\n",
    "MC_dist.portfolio_data.head()"
   ]
  },
  {
   "cell_type": "code",
   "execution_count": null,
   "metadata": {},
   "outputs": [],
   "source": [
    "# Running a Monte Carlo simulation to forecast 30 years cumulative returns\n",
    "\n",
    "MC_portfolio.calc_cumulative_return()"
   ]
  },
  {
   "cell_type": "code",
   "execution_count": null,
   "metadata": {},
   "outputs": [],
   "source": [
    "# Plot simulation outcomes\n",
    "\n",
    "line_plot = MC_portfolio.plot_simulation()"
   ]
  },
  {
   "cell_type": "code",
   "execution_count": null,
   "metadata": {},
   "outputs": [],
   "source": [
    "# Plot probability distribution and confidence intervals\n",
    "\n",
    "dist_plot = MC_portfolio.plot_distribution()"
   ]
  },
  {
   "cell_type": "markdown",
   "metadata": {},
   "source": [
    "### Retirement Analysis"
   ]
  },
  {
   "cell_type": "code",
   "execution_count": null,
   "metadata": {},
   "outputs": [],
   "source": [
    "# Fetch summary statistics from the Monte Carlo simulation results\n",
    "\n",
    "tbl = MC_dist.summarize_cumulative_return()\n",
    "\n",
    "# Print summary statistics\n",
    "\n",
    "print(tbl)"
   ]
  },
  {
   "cell_type": "markdown",
   "metadata": {},
   "source": [
    "### Calculate the expected portfolio return at the `95%` lower and upper confidence intervals based on a `$20,000` initial investment."
   ]
  },
  {
   "cell_type": "code",
   "execution_count": null,
   "metadata": {},
   "outputs": [],
   "source": [
    "# Set initial investment\n",
    "\n",
    "initial_investment = 20000\n",
    "\n",
    "# Use the lower and upper `95%` confidence intervals to calculate the range of the possible outcomes of our $20,000\n",
    "\n",
    "ci_lower = round(summary_tbl[8]*initial_investment,2)\n",
    "ci_upper = round(summary_tbl[9]*initial_investment,2)\n",
    "\n",
    "\n",
    "# Print results\n",
    "\n",
    "print(f\"There is a 95% chance that an initial investment of ${initial_investment} in the portfolio\"\n",
    "      f\" over the next 30 years will end within in the range of\"\n",
    "      f\" ${ci_lower} and ${ci_upper}\")"
   ]
  },
  {
   "cell_type": "markdown",
   "metadata": {},
   "source": [
    "### Calculate the expected portfolio return at the `95%` lower and upper confidence intervals based on a `50%` increase in the initial investment."
   ]
  },
  {
   "cell_type": "code",
   "execution_count": null,
   "metadata": {},
   "outputs": [],
   "source": [
    "# Set initial investment\n",
    "initial_investment = 20000 * 1.5\n",
    "\n",
    "# Use the lower and upper `95%` confidence intervals to calculate the range of the possible outcomes of our $30,000\n",
    "# YOUR CODE HERE!\n",
    "\n",
    "ci_lower = round(tbl[8]*initial_investment,2)\n",
    "ci_upper = round(tbl[9]*initial_investment,2)\n",
    "\n",
    "# Print results\n",
    "\n",
    "print(f\"There is a 95% chance that an initial investment of ${initial_investment} in the portfolio\"\n",
    "      f\" over the next 30 years will end within in the range of\"\n",
    "      f\" ${ci_lower} and ${ci_upper}\")"
   ]
  },
  {
   "cell_type": "markdown",
   "metadata": {},
   "source": [
    "## Optional Challenge - Early Retirement\n",
    "\n",
    "\n",
    "### Five Years Retirement Option"
   ]
  },
  {
   "cell_type": "code",
   "execution_count": null,
   "metadata": {},
   "outputs": [],
   "source": [
    "# Configuring a Monte Carlo simulation to forecast 5 years cumulative returns\n",
    "\n",
    "years = 5\n",
    "MC_dist = MCSimulation(\n",
    "    portfolio_data = df_stock_data,\n",
    "    weights = [.4,.6],\n",
    "    num_simulation = 500,\n",
    "    num_trading_days = 252*years"
   ]
  },
  {
   "cell_type": "code",
   "execution_count": null,
   "metadata": {},
   "outputs": [],
   "source": [
    "# Running a Monte Carlo simulation to forecast 5 years cumulative returns\n",
    "MC_dist.calc_cumulative_return()"
   ]
  },
  {
   "cell_type": "code",
   "execution_count": null,
   "metadata": {},
   "outputs": [],
   "source": [
    "# Plot simulation outcomes\n",
    "line_plot = MC_dist.plot_simulation()"
   ]
  },
  {
   "cell_type": "code",
   "execution_count": null,
   "metadata": {},
   "outputs": [],
   "source": [
    "# Plot probability distribution and confidence intervals\n",
    "dist_plot = MC_dist.plot_distribution()"
   ]
  },
  {
   "cell_type": "code",
   "execution_count": null,
   "metadata": {},
   "outputs": [],
   "source": [
    "# Fetch summary statistics from the Monte Carlo simulation results\n",
    "tbl = MC_dist.summarize_cumulative_return()\n",
    "\n",
    "# Print summary statistics\n",
    "print(tbl)"
   ]
  },
  {
   "cell_type": "code",
   "execution_count": null,
   "metadata": {},
   "outputs": [],
   "source": [
    "# Set initial investment\n",
    "initial_investment = 60000\n",
    "\n",
    "# Use the lower and upper `95%` confidence intervals to calculate the range of the possible outcomes of our $60,000\n",
    "ci_lower_five = round(tbl[8]*initial_investment,2)\n",
    "ci_upper_five = round(tbl[9]*initial_investment,2)\n",
    "\n",
    "# Print results\n",
    "print(f\"There is a 95% chance that an initial investment of ${initial_investment} in the portfolio\"\n",
    "      f\" over the next 5 years will end within in the range of\"\n",
    "      f\" ${ci_lower_five} and ${ci_upper_five}\")"
   ]
  },
  {
   "cell_type": "markdown",
   "metadata": {},
   "source": [
    "### Ten Years Retirement Option"
   ]
  },
  {
   "cell_type": "code",
   "execution_count": null,
   "metadata": {},
   "outputs": [],
   "source": [
    "# Configuring a Monte Carlo simulation to forecast 10 years cumulative returns\n",
    "years = 10\n",
    "MC_dist = MCSimulation(\n",
    "    portfolio_data = df_stock_data,\n",
    "    weights = [.4,.6],\n",
    "    num_simulation = 500,\n",
    "    num_trading_days = 252*years\n",
    ")"
   ]
  },
  {
   "cell_type": "code",
   "execution_count": null,
   "metadata": {},
   "outputs": [],
   "source": [
    "# Running a Monte Carlo simulation to forecast 10 years cumulative returns\n",
    "MC_dist.calc_cumulative_return()"
   ]
  },
  {
   "cell_type": "code",
   "execution_count": null,
   "metadata": {},
   "outputs": [],
   "source": [
    "# Plot simulation outcomes\n",
    "line_plot = MC_dist.plot_simulation()"
   ]
  },
  {
   "cell_type": "code",
   "execution_count": null,
   "metadata": {},
   "outputs": [],
   "source": [
    "# Plot probability distribution and confidence intervals\n",
    "dist_plot = MC_dist.plot_distribution()"
   ]
  },
  {
   "cell_type": "code",
   "execution_count": null,
   "metadata": {},
   "outputs": [],
   "source": [
    "# Fetch summary statistics from the Monte Carlo simulation results\n",
    "tbl = MC_dist.summarize_cumulative_return()\n",
    "# Print summary statistics\n",
    "\n",
    "\n",
    "print(tbl)"
   ]
  },
  {
   "cell_type": "code",
   "execution_count": null,
   "metadata": {},
   "outputs": [],
   "source": [
    "# Set initial investment\n",
    "initial_investment = 60000\n",
    "\n",
    "# Use the lower and upper `95%` confidence intervals to calculate the range of the possible outcomes of our $60,000\n",
    "ci_lower_ten = round(tbl[8]*initial_investment,2)\n",
    "ci_upper_ten = round(tbl[9]*initial_investment,2)\n",
    "\n",
    "# Print results\n",
    "print(f\"There is a 95% chance that an initial investment of ${initial_investment} in the portfolio\"\n",
    "      f\" over the next 10 years will end within in the range of\"\n",
    "      f\" ${ci_lower_ten} and ${ci_upper_ten}\")"
   ]
  },
  {
   "cell_type": "code",
   "execution_count": null,
   "metadata": {},
   "outputs": [],
   "source": []
  },
  {
   "cell_type": "code",
   "execution_count": null,
   "metadata": {},
   "outputs": [],
   "source": []
  },
  {
   "cell_type": "code",
   "execution_count": null,
   "metadata": {},
   "outputs": [],
   "source": []
  },
  {
   "cell_type": "code",
   "execution_count": null,
   "metadata": {},
   "outputs": [],
   "source": []
  },
  {
   "cell_type": "code",
   "execution_count": null,
   "metadata": {},
   "outputs": [],
   "source": []
  },
  {
   "cell_type": "code",
   "execution_count": null,
   "metadata": {},
   "outputs": [],
   "source": []
  }
 ],
 "metadata": {
  "kernelspec": {
   "display_name": "Python 3 (ipykernel)",
   "language": "python",
   "name": "python3"
  },
  "language_info": {
   "codemirror_mode": {
    "name": "ipython",
    "version": 3
   },
   "file_extension": ".py",
   "mimetype": "text/x-python",
   "name": "python",
   "nbconvert_exporter": "python",
   "pygments_lexer": "ipython3",
   "version": "3.10.10"
  },
  "nteract": {
   "version": "0.28.0"
  }
 },
 "nbformat": 4,
 "nbformat_minor": 4
}
