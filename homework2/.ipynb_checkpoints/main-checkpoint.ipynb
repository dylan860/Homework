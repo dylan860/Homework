{
 "cells": [
  {
   "cell_type": "code",
   "execution_count": null,
   "id": "d0e8fb8c-0497-4d80-95bb-be19df57a896",
   "metadata": {},
   "outputs": [],
   "source": [
    "import pandas as pd\n",
    "from pathlib import Path\n",
    "%matplotlib inline"
   ]
  },
  {
   "cell_type": "code",
   "execution_count": null,
   "id": "b740f392-ed57-48df-8780-c9230f69d426",
   "metadata": {},
   "outputs": [],
   "source": [
    "#Set path for files\n",
    "budget_data = pd.read_csv(\"budget_data.csv\")\n",
    "print(budget_data)\n",
    "#Set path for files\n",
    "##budget_data = pd.read_csv(r\"C:/Users/brown/OneDrive/Desktop/Homework/homework2/budget_data.csv\")\n",
    "#print(budget_data)"
   ]
  },
  {
   "cell_type": "code",
   "execution_count": null,
   "id": "8f799821-7e0a-466d-926a-48301f88f838",
   "metadata": {},
   "outputs": [],
   "source": [
    "#Declare variables\n",
    "total_months = []\n",
    "total_profits = []\n",
    "profit_changes = 0\n",
    "monthly_changes = []\n",
    "previous_value = 0"
   ]
  },
  {
   "cell_type": "code",
   "execution_count": null,
   "id": "79bb6e75-6e03-42a9-92b9-f73507e9f789",
   "metadata": {},
   "outputs": [],
   "source": [
    "#open the CSV File\n",
    "open file_path('CSV_path') as csvfile:\n",
    "    csvreader =csv.reader(csvfile,delimiter=\",\")"
   ]
  },
  {
   "cell_type": "code",
   "execution_count": null,
   "id": "3f10f867-6644-456f-87be-f6e50849576e",
   "metadata": {},
   "outputs": [],
   "source": [
    "#had to skip the header or otherwise will count it\n",
    "csv_reader= next (\"csvreader\")"
   ]
  },
  {
   "cell_type": "code",
   "execution_count": null,
   "id": "d964daa4-8d0e-41ab-aa5d-444d2d906f06",
   "metadata": {},
   "outputs": [],
   "source": [
    "for row in csvreader:"
   ]
  },
  {
   "cell_type": "code",
   "execution_count": null,
   "id": "566497ae-abb8-4652-b129-03e2e188be87",
   "metadata": {},
   "outputs": [],
   "source": [
    "#Total of months and profits/losses\n",
    "total_months('row'[0])\n",
    "total_profits('row'[1])\n",
    "print(len(total_months))"
   ]
  },
  {
   "cell_type": "code",
   "execution_count": null,
   "id": "326027f9-1503-4408-92e3-3d518c5ba93e",
   "metadata": {},
   "outputs": [],
   "source": [
    "#The net total amount of \"Profit/Losses\" over the entire period\n",
    "total_profits_conv= [int(x)for x in total_profits]\n",
    "total_profits=(sum(total_profits_conv))\n",
    "print(total_profits)"
   ]
  },
  {
   "cell_type": "code",
   "execution_count": null,
   "id": "ab88ca00-14b3-4631-b080-83a7d87329b6",
   "metadata": {},
   "outputs": [],
   "source": [
    "budget_data.head(7)"
   ]
  },
  {
   "cell_type": "code",
   "execution_count": null,
   "id": "dff3d7da-583d-4671-ae94-25d266b4f333",
   "metadata": {},
   "outputs": [],
   "source": [
    "with open(\"./budget_data.csv\",'r') as csvfile:\n",
    "    ##print(type(csvfile))\n",
    "    ## try to solve this all in one loop\n",
    "    csvreader = csv.reader(csvfile, delimiter=',')\n",
    "    header = next(csvreader)\n",
    "    PnL + 0\n",
    "    \n",
    "    lineNum +=1\n",
    "    ##print(f\":{header}:\") ## the library knows this 'header'\n",
    "    for row in csvreader:\n",
    "        ##print(row)\n",
    "        Pnl = int(row[1])\n",
    "        PnLTotal += int(row[1])\n",
    "        PnL_List.append(PnL) ## this is where we took the data\n",
    "Month_Total = len(PnL_List)"
   ]
  },
  {
   "cell_type": "code",
   "execution_count": null,
   "id": "3607c2f1-3566-40dd-924a-823b64daae14",
   "metadata": {},
   "outputs": [],
   "source": [
    "##Avg Change Calc \n",
    "changes = [1]\n",
    "for i in range(1, len(PnL_List)):\n",
    "    change = PnL_List(i) - PnLList[i-1]\n",
    "    changes.append(change)\n",
    "    \n",
    "# calc the avg change\n",
    "\n",
    "AvgChange = sum(changes) / len(changes)\n",
    "RoundAvgChange = round(AvgChange, 2)\n",
    "GIP = max(changes)\n",
    "GDP = min(changes)"
   ]
  },
  {
   "cell_type": "code",
   "execution_count": null,
   "id": "9b2d14a8-2987-4ad6-9efa-32968345abc9",
   "metadata": {},
   "outputs": [],
   "source": [
    "print(\"Financial Analysis\" )\n",
    "print(\"----------------\" )\n",
    "print(f\" Total Months:{MonthTotal} \")\n",
    "print(f\" Total: {PnLTotal} \")\n",
    "print(f\" Average Change: {roundedAvgChange} \" )\n",
    "print(f\" Greatest Increase in Profits: {GIP} \" )\n",
    "print(f\" Greatest Decrease in profits: {GDP} \" )"
   ]
  },
  {
   "cell_type": "code",
   "execution_count": null,
   "id": "63afc0c2-eb76-453f-b2ca-1efac0d1d3d1",
   "metadata": {},
   "outputs": [],
   "source": [
    "from pathlib import Path\n",
    "import csv"
   ]
  },
  {
   "cell_type": "code",
   "execution_count": null,
   "id": "d18a21cf-8994-4426-9aeb-f261a13d9922",
   "metadata": {},
   "outputs": [],
   "source": [
    "with open (csvpath,'r') as csv file:\n",
    "print (csvfile)\n",
    "          "
   ]
  },
  {
   "cell_type": "code",
   "execution_count": null,
   "id": "0f84b89f-aa75-4376-b12a-8514ed16886f",
   "metadata": {},
   "outputs": [],
   "source": []
  }
 ],
 "metadata": {
  "kernelspec": {
   "display_name": "Python 3 (ipykernel)",
   "language": "python",
   "name": "python3"
  },
  "language_info": {
   "codemirror_mode": {
    "name": "ipython",
    "version": 3
   },
   "file_extension": ".py",
   "mimetype": "text/x-python",
   "name": "python",
   "nbconvert_exporter": "python",
   "pygments_lexer": "ipython3",
   "version": "3.9.16"
  }
 },
 "nbformat": 4,
 "nbformat_minor": 5
}
