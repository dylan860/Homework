{
 "cells": [
  {
   "cell_type": "code",
   "execution_count": null,
   "id": "f55de078-2037-40b6-b477-3df15b409aca",
   "metadata": {},
   "outputs": [],
   "source": [
    "def check_common_item(list_a, list_b):\n",
    "    flag = 0 #let flag = 0 means there are no common\n",
    "    "
   ]
  }
 ],
 "metadata": {
  "kernelspec": {
   "display_name": "Python 3 (ipykernel)",
   "language": "python",
   "name": "python3"
  },
  "language_info": {
   "codemirror_mode": {
    "name": "ipython",
    "version": 3
   },
   "file_extension": ".py",
   "mimetype": "text/x-python",
   "name": "python",
   "nbconvert_exporter": "python",
   "pygments_lexer": "ipython3",
   "version": "3.9.16"
  }
 },
 "nbformat": 4,
 "nbformat_minor": 5
}
