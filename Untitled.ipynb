{
 "cells": [
  {
   "cell_type": "code",
   "execution_count": null,
   "id": "bdfeb4b4-962d-41e0-9bde-251a68f0cbe7",
   "metadata": {},
   "outputs": [],
   "source": [
    "from collections import Counter\n",
    "list1=['1, 2, 2, 3']\n",
    "t.append(4)\n",
    "print('list1')\n"
   ]
  },
  {
   "cell_type": "code",
   "execution_count": null,
   "id": "1f65ac4d-9909-4ae7-be4d-d9d6e6e8f4c1",
   "metadata": {},
   "outputs": [],
   "source": [
    "array = [1, 2, 2, 3]\n",
    "counter = Counter(array)\n",
    "mc = counter.most_common()\n",
    "print(mc)"
   ]
  },
  {
   "cell_type": "code",
   "execution_count": 5,
   "id": "0d026327-b7db-4dba-b3fc-b3d838061b65",
   "metadata": {},
   "outputs": [
    {
     "data": {
      "text/plain": [
       "['1, 2, 2, 3']"
      ]
     },
     "execution_count": 5,
     "metadata": {},
     "output_type": "execute_result"
    }
   ],
   "source": [
    "list1[:4]"
   ]
  },
  {
   "cell_type": "raw",
   "id": "6dfea1a3-7aef-49ed-9581-322af35c9534",
   "metadata": {},
   "source": [
    "from statistics import mode\n",
    "\n",
    "def most_common(num_list):\n",
    "    return mode(num_list):\n",
    "\n"
   ]
  },
  {
   "cell_type": "code",
   "execution_count": 10,
   "id": "2db1a315-cf26-4b7d-9174-5e63365a71fe",
   "metadata": {},
   "outputs": [
    {
     "ename": "SyntaxError",
     "evalue": "invalid syntax (350994924.py, line 1)",
     "output_type": "error",
     "traceback": [
      "\u001b[1;36m  Cell \u001b[1;32mIn[10], line 1\u001b[1;36m\u001b[0m\n\u001b[1;33m    def CountAllLetters(text)\u001b[0m\n\u001b[1;37m                             ^\u001b[0m\n\u001b[1;31mSyntaxError\u001b[0m\u001b[1;31m:\u001b[0m invalid syntax\n"
     ]
    }
   ],
   "source": [
    "def CountAllLetters(text)\n",
    "    text=text.lower()\n",
    "    d={}\n",
    "    for i in text:\n",
    "        if i ==\"\":\n",
    "            continue\n",
    "            if i in d:\n",
    "                d[i] +=1\n",
    "                else: d[i]=1\n",
    "print (d)"
   ]
  }
 ],
 "metadata": {
  "kernelspec": {
   "display_name": "Python 3 (ipykernel)",
   "language": "python",
   "name": "python3"
  },
  "language_info": {
   "codemirror_mode": {
    "name": "ipython",
    "version": 3
   },
   "file_extension": ".py",
   "mimetype": "text/x-python",
   "name": "python",
   "nbconvert_exporter": "python",
   "pygments_lexer": "ipython3",
   "version": "3.9.16"
  }
 },
 "nbformat": 4,
 "nbformat_minor": 5
}
